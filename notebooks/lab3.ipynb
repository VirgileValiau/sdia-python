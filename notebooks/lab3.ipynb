{
 "cells": [
  {
   "cell_type": "markdown",
   "metadata": {},
   "source": [
    "# Practical session 3 - Practice with numpy\n",
    "\n",
    "Course: [SDIA-Python](https://github.com/guilgautier/sdia-python)\n",
    "\n",
    "Date: 10/06/2021\n",
    "\n",
    "Instructor: [Guillaume Gautier](https://guilgautier.github.io/)\n",
    "\n",
    "Students (pair):\n",
    "- [Student 1]([link](https://github.com/username1))\n",
    "- [Student 2]([link](https://github.com/username2))"
   ]
  },
  {
   "cell_type": "code",
   "execution_count": 2,
   "metadata": {},
   "outputs": [],
   "source": [
    "%load_ext autoreload\n",
    "%autoreload 2\n",
    "\n",
    "import numpy as np\n",
    "from sdia_python.lab2.utils import get_random_number_generator"
   ]
  },
  {
   "cell_type": "code",
   "execution_count": 3,
   "metadata": {},
   "outputs": [
    {
     "name": "stdout",
     "output_type": "stream",
     "text": [
      "<class 'numpy.ndarray'>\n"
     ]
    },
    {
     "data": {
      "text/plain": [
       "['T',\n",
       " '__abs__',\n",
       " '__add__',\n",
       " '__and__',\n",
       " '__array__',\n",
       " '__array_finalize__',\n",
       " '__array_function__',\n",
       " '__array_interface__',\n",
       " '__array_prepare__',\n",
       " '__array_priority__',\n",
       " '__array_struct__',\n",
       " '__array_ufunc__',\n",
       " '__array_wrap__',\n",
       " '__bool__',\n",
       " '__class__',\n",
       " '__complex__',\n",
       " '__contains__',\n",
       " '__copy__',\n",
       " '__deepcopy__',\n",
       " '__delattr__',\n",
       " '__delitem__',\n",
       " '__dir__',\n",
       " '__divmod__',\n",
       " '__doc__',\n",
       " '__eq__',\n",
       " '__float__',\n",
       " '__floordiv__',\n",
       " '__format__',\n",
       " '__ge__',\n",
       " '__getattribute__',\n",
       " '__getitem__',\n",
       " '__gt__',\n",
       " '__hash__',\n",
       " '__iadd__',\n",
       " '__iand__',\n",
       " '__ifloordiv__',\n",
       " '__ilshift__',\n",
       " '__imatmul__',\n",
       " '__imod__',\n",
       " '__imul__',\n",
       " '__index__',\n",
       " '__init__',\n",
       " '__init_subclass__',\n",
       " '__int__',\n",
       " '__invert__',\n",
       " '__ior__',\n",
       " '__ipow__',\n",
       " '__irshift__',\n",
       " '__isub__',\n",
       " '__iter__',\n",
       " '__itruediv__',\n",
       " '__ixor__',\n",
       " '__le__',\n",
       " '__len__',\n",
       " '__lshift__',\n",
       " '__lt__',\n",
       " '__matmul__',\n",
       " '__mod__',\n",
       " '__mul__',\n",
       " '__ne__',\n",
       " '__neg__',\n",
       " '__new__',\n",
       " '__or__',\n",
       " '__pos__',\n",
       " '__pow__',\n",
       " '__radd__',\n",
       " '__rand__',\n",
       " '__rdivmod__',\n",
       " '__reduce__',\n",
       " '__reduce_ex__',\n",
       " '__repr__',\n",
       " '__rfloordiv__',\n",
       " '__rlshift__',\n",
       " '__rmatmul__',\n",
       " '__rmod__',\n",
       " '__rmul__',\n",
       " '__ror__',\n",
       " '__rpow__',\n",
       " '__rrshift__',\n",
       " '__rshift__',\n",
       " '__rsub__',\n",
       " '__rtruediv__',\n",
       " '__rxor__',\n",
       " '__setattr__',\n",
       " '__setitem__',\n",
       " '__setstate__',\n",
       " '__sizeof__',\n",
       " '__str__',\n",
       " '__sub__',\n",
       " '__subclasshook__',\n",
       " '__truediv__',\n",
       " '__xor__',\n",
       " 'all',\n",
       " 'any',\n",
       " 'argmax',\n",
       " 'argmin',\n",
       " 'argpartition',\n",
       " 'argsort',\n",
       " 'astype',\n",
       " 'base',\n",
       " 'byteswap',\n",
       " 'choose',\n",
       " 'clip',\n",
       " 'compress',\n",
       " 'conj',\n",
       " 'conjugate',\n",
       " 'copy',\n",
       " 'ctypes',\n",
       " 'cumprod',\n",
       " 'cumsum',\n",
       " 'data',\n",
       " 'diagonal',\n",
       " 'dot',\n",
       " 'dtype',\n",
       " 'dump',\n",
       " 'dumps',\n",
       " 'fill',\n",
       " 'flags',\n",
       " 'flat',\n",
       " 'flatten',\n",
       " 'getfield',\n",
       " 'imag',\n",
       " 'item',\n",
       " 'itemset',\n",
       " 'itemsize',\n",
       " 'max',\n",
       " 'mean',\n",
       " 'min',\n",
       " 'nbytes',\n",
       " 'ndim',\n",
       " 'newbyteorder',\n",
       " 'nonzero',\n",
       " 'partition',\n",
       " 'prod',\n",
       " 'ptp',\n",
       " 'put',\n",
       " 'ravel',\n",
       " 'real',\n",
       " 'repeat',\n",
       " 'reshape',\n",
       " 'resize',\n",
       " 'round',\n",
       " 'searchsorted',\n",
       " 'setfield',\n",
       " 'setflags',\n",
       " 'shape',\n",
       " 'size',\n",
       " 'sort',\n",
       " 'squeeze',\n",
       " 'std',\n",
       " 'strides',\n",
       " 'sum',\n",
       " 'swapaxes',\n",
       " 'take',\n",
       " 'tobytes',\n",
       " 'tofile',\n",
       " 'tolist',\n",
       " 'tostring',\n",
       " 'trace',\n",
       " 'transpose',\n",
       " 'var',\n",
       " 'view']"
      ]
     },
     "execution_count": 3,
     "metadata": {},
     "output_type": "execute_result"
    }
   ],
   "source": [
    "my_array = np.array([0])\n",
    "print(type(my_array))\n",
    "dir(np.ndarray)"
   ]
  },
  {
   "cell_type": "markdown",
   "metadata": {},
   "source": [
    "Propose at leat 2 ways to create an integer vector of size 100 made of 1s"
   ]
  },
  {
   "cell_type": "code",
   "execution_count": 7,
   "metadata": {},
   "outputs": [
    {
     "name": "stdout",
     "output_type": "stream",
     "text": [
      "[1. 1. 1. 1. 1. 1. 1. 1. 1. 1. 1. 1. 1. 1. 1. 1. 1. 1. 1. 1. 1. 1. 1. 1.\n",
      " 1. 1. 1. 1. 1. 1. 1. 1. 1. 1. 1. 1. 1. 1. 1. 1. 1. 1. 1. 1. 1. 1. 1. 1.\n",
      " 1. 1. 1. 1. 1. 1. 1. 1. 1. 1. 1. 1. 1. 1. 1. 1. 1. 1. 1. 1. 1. 1. 1. 1.\n",
      " 1. 1. 1. 1. 1. 1. 1. 1. 1. 1. 1. 1. 1. 1. 1. 1. 1. 1. 1. 1. 1. 1. 1. 1.\n",
      " 1. 1. 1. 1.]\n",
      "[1 1 1 1 1 1 1 1 1 1 1 1 1 1 1 1 1 1 1 1 1 1 1 1 1 1 1 1 1 1 1 1 1 1 1 1 1\n",
      " 1 1 1 1 1 1 1 1 1 1 1 1 1 1 1 1 1 1 1 1 1 1 1 1 1 1 1 1 1 1 1 1 1 1 1 1 1\n",
      " 1 1 1 1 1 1 1 1 1 1 1 1 1 1 1 1 1 1 1 1 1 1 1 1 1 1]\n"
     ]
    }
   ],
   "source": [
    "A = np.ones(100)\n",
    "print(A)\n",
    "A = np.full(100,1)\n",
    "print(A)"
   ]
  },
  {
   "cell_type": "markdown",
   "metadata": {},
   "source": [
    "Create a vector with values ranging from 10 to 49"
   ]
  },
  {
   "cell_type": "code",
   "execution_count": 8,
   "metadata": {},
   "outputs": [
    {
     "name": "stdout",
     "output_type": "stream",
     "text": [
      "[10 11 12 13 14 15 16 17 18 19 20 21 22 23 24 25 26 27 28 29 30 31 32 33\n",
      " 34 35 36 37 38 39 40 41 42 43 44 45 46 47 48 49]\n"
     ]
    }
   ],
   "source": [
    "U = np.arange(10,50)\n",
    "print(U)"
   ]
  },
  {
   "cell_type": "markdown",
   "metadata": {},
   "source": [
    "Propose a way to construct the vector $(0.0, 0.2, 0.4, 0.6, 0.8)$"
   ]
  },
  {
   "cell_type": "code",
   "execution_count": 12,
   "metadata": {},
   "outputs": [
    {
     "name": "stdout",
     "output_type": "stream",
     "text": [
      "[0.  0.2 0.4 0.6 0.8]\n",
      "[0.  0.2 0.4 0.6 0.8]\n"
     ]
    }
   ],
   "source": [
    "U = np.linspace(0,0.8,5)\n",
    "print(U)\n",
    "U = np.arange(0,1,0.2)\n",
    "print(U)"
   ]
  },
  {
   "cell_type": "markdown",
   "metadata": {},
   "source": [
    "Convert a float array into an integer array in place"
   ]
  },
  {
   "cell_type": "code",
   "execution_count": 12,
   "metadata": {},
   "outputs": [
    {
     "name": "stdout",
     "output_type": "stream",
     "text": [
      "[5.   6.   2.5  3.8  3.14 9.58]\n",
      "[5 6 2 3 3 9]\n"
     ]
    }
   ],
   "source": [
    "U=np.array([5.,6.,2.5,3.8,3.14,9.58])\n",
    "print(U)\n",
    "V=U.astype(int)\n",
    "print(V)"
   ]
  },
  {
   "cell_type": "markdown",
   "metadata": {},
   "source": [
    "Given a boolean array\n",
    "\n",
    "- return the indices where \n",
    "- negate the array inplace? "
   ]
  },
  {
   "cell_type": "code",
   "execution_count": 75,
   "metadata": {},
   "outputs": [
    {
     "name": "stdout",
     "output_type": "stream",
     "text": [
      "[ True False False  True  True  True False  True]\n",
      "[[0]\n",
      " [3]\n",
      " [4]\n",
      " [5]\n",
      " [7]]\n",
      "[False  True  True False False False  True False]\n"
     ]
    }
   ],
   "source": [
    "U = np.array([True, False, False, True, True, True, False, True])\n",
    "print(U)\n",
    "print(np.argwhere(U))\n",
    "\n",
    "print(np.where(U == False,True,False))"
   ]
  },
  {
   "cell_type": "markdown",
   "metadata": {},
   "source": [
    "Given 2 vectors $u, v$, propose at least\n",
    "\n",
    "- 2 ways to compute the inner product $v^{\\top} u$ (here they must have the same size)\n",
    "- 2 ways to compute the outer product matrix $u v^{\\top}$\n",
    "- 2 ways to compute the outer sum matrix \"$M = u + v^{\\top}$\", where $M_{ij} = u_i + v_j$"
   ]
  },
  {
   "cell_type": "code",
   "execution_count": 13,
   "metadata": {},
   "outputs": [
    {
     "name": "stdout",
     "output_type": "stream",
     "text": [
      "217\n",
      "217\n",
      "[[ 7  8  9 10 11 12]\n",
      " [14 16 18 20 22 24]\n",
      " [21 24 27 30 33 36]\n",
      " [28 32 36 40 44 48]\n",
      " [35 40 45 50 55 60]\n",
      " [42 48 54 60 66 72]]\n",
      "[[ 7  8  9 10 11 12]\n",
      " [14 16 18 20 22 24]\n",
      " [21 24 27 30 33 36]\n",
      " [28 32 36 40 44 48]\n",
      " [35 40 45 50 55 60]\n",
      " [42 48 54 60 66 72]]\n",
      "[[ 8  9 10 11 12 13]\n",
      " [ 9 10 11 12 13 14]\n",
      " [10 11 12 13 14 15]\n",
      " [11 12 13 14 15 16]\n",
      " [12 13 14 15 16 17]\n",
      " [13 14 15 16 17 18]]\n",
      "[[ 8  9 10 11 12 13]\n",
      " [ 9 10 11 12 13 14]\n",
      " [10 11 12 13 14 15]\n",
      " [11 12 13 14 15 16]\n",
      " [12 13 14 15 16 17]\n",
      " [13 14 15 16 17 18]]\n"
     ]
    }
   ],
   "source": [
    "U=np.array([1,2,3,4,5,6])\n",
    "V=np.array([7,8,9,10,11,12])\n",
    "print(np.dot(U,V))\n",
    "print(np.inner(U,V))\n",
    "\n",
    "tU = np.reshape(U,(-1,1))\n",
    "tV = np.reshape(V,(-1,1))\n",
    "print(np.outer(U,V))\n",
    "print(np.dot(tU,tV.T))\n",
    "\n",
    "M = tU.T + tV\n",
    "print(M)\n",
    "M=np.add.outer(U,V)\n",
    "print(M)"
   ]
  },
  {
   "cell_type": "markdown",
   "metadata": {},
   "source": [
    "Given the following matrix\n",
    "\n",
    "$$\n",
    "M = \n",
    "\\begin{pmatrix}\n",
    "    0 & 1 & 2 \\\\\n",
    "    3 & 4 & 5 \\\\\n",
    "    6 & 7 & 8 \\\\\n",
    "\\end{pmatrix}\n",
    "$$\n",
    "\n",
    "- Create $M$ using as a list of lists and access the element in the middle\n",
    "- Propose at least 2 ways to create $M$ using numpy and access the element in the middle\n",
    "- Swap its first and second row\n",
    "- Propose at least 3 ways to extract the submatrix $\\begin{pmatrix}4 & 5 \\\\7 & 8 \\\\\\end{pmatrix}$\n",
    "- Propose at least 2 ways to extract the diagonal of $M$\n",
    "- Propose at least 2 ways to compute $M^3$\n",
    "- Compute $v^{\\top} M$, resp. $M N$ for a vector, resp. a matrix of your choice. \n",
    "- Propose 2 ways to \"vectorize\" the matrix, i.e., transform it into\n",
    "  - $(0, 1, 2, 3, 4, 5, 6, 7, 8)$\n",
    "  - $(0, 3, 6, 1, 4, 7, 2, 5, 8)$\n",
    "- Consider $v = (1, 2 , 3)$, compute the\n",
    "  - row-wise multiplication of $M$ by $v$ ($M_{i\\cdot}$ is multiplied by $v_i$)\n",
    "  - column-wise multiplication of $M$ by $v$ ($M_{\\cdot j}$ is multiplied by $v_i$)"
   ]
  },
  {
   "cell_type": "code",
   "execution_count": 117,
   "metadata": {},
   "outputs": [
    {
     "name": "stdout",
     "output_type": "stream",
     "text": [
      "4\n",
      "[[0 1 2]\n",
      " [3 4 5]\n",
      " [6 7 8]]\n",
      "4\n",
      "[[0 1 2]\n",
      " [3 4 5]\n",
      " [6 7 8]]\n",
      "4\n",
      "[0 4 8]\n",
      "[[ 180  234  288]\n",
      " [ 558  720  882]\n",
      " [ 936 1206 1476]]\n",
      "[15 18 21]\n",
      "[[ 20  23  26  29]\n",
      " [ 56  68  80  92]\n",
      " [ 92 113 134 155]]\n",
      "[[0 1 2 3 4 5 6 7 8]]\n",
      "[[0 3 6 1 4 7 2 5 8]]\n",
      "[[[ 0  2  6]]\n",
      "\n",
      " [[ 3  8 15]]\n",
      "\n",
      " [[ 6 14 24]]]\n",
      "[[[ 0  1  2]]\n",
      "\n",
      " [[ 6  8 10]]\n",
      "\n",
      " [[18 21 24]]]\n"
     ]
    }
   ],
   "source": [
    "M=[ [0,1,2],\n",
    "    [3,4,5],\n",
    "    [6,7,8] ]\n",
    "print(M[1][1])\n",
    "\n",
    "M=np.array(M)\n",
    "print(M)\n",
    "print(M[1][1])\n",
    "M=np.arange(9).reshape(3,3)\n",
    "print(M)\n",
    "print(M[1,1])\n",
    "\n",
    "#M[[1,0]] = M[[0,1]]\n",
    "#print(M)\n",
    "\n",
    "#print(M[1:,1:])\n",
    "#print(M[np.ix_([1,2],[1,2])])\n",
    "#print(np.array([M[1][1:],M[2][1:]]))\n",
    "\n",
    "print(np.diag(M))\n",
    "#print([M[i][i] for i in range(len(M))])\n",
    "\n",
    "print(M@M@M)\n",
    "#print(np.dot(np.dot(M,M),M))\n",
    "\n",
    "V=np.array(range(3))\n",
    "print(np.dot(V,M))\n",
    "\n",
    "N=np.array(range(12)).reshape(3,4)\n",
    "print(M@N)\n",
    "\n",
    "print(M.reshape(1,-1))\n",
    "print((M.T).reshape(1,-1))\n",
    "\n",
    "\n",
    "V = np.array([1,2,3])\n",
    "\n",
    "print(V*M[:,None])\n",
    "print((V*(M.T)[:,None]).T)"
   ]
  },
  {
   "cell_type": "markdown",
   "metadata": {},
   "source": [
    "Write a function `is_symmetric` that checks whether a given n x n matrix is symmetric, and provide an example"
   ]
  },
  {
   "cell_type": "code",
   "execution_count": 127,
   "metadata": {},
   "outputs": [
    {
     "name": "stdout",
     "output_type": "stream",
     "text": [
      "False\n",
      "True\n"
     ]
    }
   ],
   "source": [
    "def is_symmetric(M):\n",
    "    assert len(M) == len(M[0])\n",
    "    return (M.T == M).all()\n",
    "\n",
    "print(is_symmetric(M))\n",
    "N = np.array([[1,2,3],\n",
    "              [2,4,5],\n",
    "              [3,5,8]])\n",
    "print(is_symmetric(N))"
   ]
  },
  {
   "cell_type": "markdown",
   "metadata": {},
   "source": [
    "## Random\n",
    "\n",
    "REQUIREMENT: USE THE FUNCTION `get_random_number_generator` as previously used in Lab 2."
   ]
  },
  {
   "cell_type": "code",
   "execution_count": 5,
   "metadata": {},
   "outputs": [],
   "source": [
    "from sdia_python.lab2.utils import get_random_number_generator"
   ]
  },
  {
   "cell_type": "markdown",
   "metadata": {},
   "source": [
    "Consider the Bernoulli(0.4) distribution\n",
    "\n",
    "- Propose at least 2 ways to generate n=1000 samples from it\n",
    "- Compute the empirical mean and variance"
   ]
  },
  {
   "cell_type": "code",
   "execution_count": 6,
   "metadata": {},
   "outputs": [
    {
     "name": "stdout",
     "output_type": "stream",
     "text": [
      "0.39921\n",
      "0.23984137589999996\n"
     ]
    },
    {
     "data": {
      "text/plain": [
       "0.004822044056611019"
      ]
     },
     "execution_count": 6,
     "metadata": {},
     "output_type": "execute_result"
    }
   ],
   "source": [
    "seed = 150\n",
    "rng = get_random_number_generator(seed)\n",
    "\n",
    "nb_trials = 100000\n",
    "Dis1 = np.array([np.random.binomial(1,.4) for i in range(nb_trials)])\n",
    "nb_success = np.random.binomial(1000,.4)\n",
    "print(Dis1.mean())\n",
    "print(Dis1.var())\n",
    "\n",
    "p=0.4\n",
    "rng.uniform() < 0.4\n"
   ]
  },
  {
   "cell_type": "code",
   "execution_count": 7,
   "metadata": {},
   "outputs": [
    {
     "data": {
      "text/plain": [
       "array([[0.        , 1.78458221],\n",
       "       [0.        , 1.68626892],\n",
       "       [0.        , 1.82464724],\n",
       "       [0.        , 1.30899169],\n",
       "       [0.        , 1.59407271],\n",
       "       [0.        , 1.91654205],\n",
       "       [0.        , 1.3774708 ],\n",
       "       [0.        , 1.48693548],\n",
       "       [0.        , 1.97447486],\n",
       "       [0.        , 1.58480874],\n",
       "       [0.        , 1.83778583],\n",
       "       [0.        , 1.17284622],\n",
       "       [0.        , 1.34410992],\n",
       "       [0.        , 1.15268116],\n",
       "       [0.        , 1.5638672 ],\n",
       "       [0.        , 1.0827886 ],\n",
       "       [0.        , 1.92282363],\n",
       "       [0.        , 1.78076889],\n",
       "       [0.        , 1.22546091],\n",
       "       [0.        , 1.34535628],\n",
       "       [0.        , 1.6863697 ],\n",
       "       [0.        , 1.87537441],\n",
       "       [0.        , 1.69520225],\n",
       "       [0.        , 1.48096626],\n",
       "       [0.        , 1.57471329],\n",
       "       [0.        , 1.48841558],\n",
       "       [0.        , 1.12455726],\n",
       "       [0.        , 1.95891304],\n",
       "       [0.        , 1.79285131],\n",
       "       [0.        , 1.4694303 ],\n",
       "       [0.        , 1.45322328],\n",
       "       [0.        , 1.94721517],\n",
       "       [0.        , 1.43751964],\n",
       "       [0.        , 1.1666324 ],\n",
       "       [0.        , 1.86960226],\n",
       "       [0.        , 1.16041064],\n",
       "       [0.        , 1.45228665],\n",
       "       [0.        , 1.74398857],\n",
       "       [0.        , 1.18617391],\n",
       "       [0.        , 1.88179885],\n",
       "       [0.        , 1.25253965],\n",
       "       [0.        , 1.19936517],\n",
       "       [0.        , 1.02148092],\n",
       "       [0.        , 1.25119605],\n",
       "       [0.        , 1.76152989],\n",
       "       [0.        , 1.46584478],\n",
       "       [0.        , 1.4217361 ],\n",
       "       [0.        , 1.25708186],\n",
       "       [0.        , 1.89578653],\n",
       "       [0.        , 1.19592065],\n",
       "       [0.        , 1.33653663],\n",
       "       [0.        , 1.22515805],\n",
       "       [0.        , 1.42505738],\n",
       "       [0.        , 1.42296459],\n",
       "       [0.        , 1.52638092],\n",
       "       [0.        , 1.35734509],\n",
       "       [0.        , 1.71079499],\n",
       "       [0.        , 1.29142745],\n",
       "       [0.        , 1.28186903],\n",
       "       [0.        , 1.06699998],\n",
       "       [0.        , 1.91696613],\n",
       "       [0.        , 1.3181795 ],\n",
       "       [0.        , 1.28996066],\n",
       "       [0.        , 1.24859357],\n",
       "       [0.        , 1.67375671],\n",
       "       [0.        , 1.33739463],\n",
       "       [0.        , 1.99715459],\n",
       "       [0.        , 1.4514508 ],\n",
       "       [0.        , 1.18704045],\n",
       "       [0.        , 1.68559201],\n",
       "       [0.        , 1.38441072],\n",
       "       [0.        , 1.87668555],\n",
       "       [0.        , 1.05886378],\n",
       "       [0.        , 1.13806238],\n",
       "       [0.        , 1.08541891],\n",
       "       [0.        , 1.16728382],\n",
       "       [0.        , 1.67777411],\n",
       "       [0.        , 1.3263779 ],\n",
       "       [0.        , 1.50000813],\n",
       "       [0.        , 1.46248142],\n",
       "       [0.        , 1.8879392 ],\n",
       "       [0.        , 1.19684993],\n",
       "       [0.        , 1.39798546],\n",
       "       [0.        , 1.30489744],\n",
       "       [0.        , 1.25331464],\n",
       "       [0.        , 1.15947804],\n",
       "       [0.        , 1.69618616],\n",
       "       [0.        , 1.43850614],\n",
       "       [0.        , 1.75230222],\n",
       "       [0.        , 1.09577246],\n",
       "       [0.        , 1.19322213],\n",
       "       [0.        , 1.0106398 ],\n",
       "       [0.        , 1.14960844],\n",
       "       [0.        , 1.44280498],\n",
       "       [0.        , 1.05622099],\n",
       "       [0.        , 1.7103508 ],\n",
       "       [0.        , 1.01194391],\n",
       "       [0.        , 1.14638168],\n",
       "       [0.        , 1.23570832],\n",
       "       [0.        , 1.40784991]])"
      ]
     },
     "execution_count": 7,
     "metadata": {},
     "output_type": "execute_result"
    }
   ],
   "source": [
    "rng.uniform([0,1],[0,2],size=(100,2))"
   ]
  },
  {
   "cell_type": "markdown",
   "metadata": {},
   "source": [
    "Consider a random matrix of size $50 \\times 100$, filled with i.i.d. standard Gaussian variables, compute\n",
    "\n",
    "- the absolute value of each entry\n",
    "- the sum of each row\n",
    "- the sum of each colomn \n",
    "- the (euclidean) norm of each row\n",
    "- the (euclidean) norm of each column"
   ]
  },
  {
   "cell_type": "markdown",
   "metadata": {},
   "source": []
  }
 ],
 "metadata": {
  "interpreter": {
   "hash": "b7a14428d0679a388d12d4d70095ebadfa2b4123e67a2bea52c5cc1555b33208"
  },
  "kernelspec": {
   "display_name": "Python 3.8.11 64-bit ('sdia-python': conda)",
   "name": "python3"
  },
  "language_info": {
   "codemirror_mode": {
    "name": "ipython",
    "version": 3
   },
   "file_extension": ".py",
   "mimetype": "text/x-python",
   "name": "python",
   "nbconvert_exporter": "python",
   "pygments_lexer": "ipython3",
   "version": "3.8.11"
  },
  "toc": {
   "base_numbering": 1,
   "nav_menu": {},
   "number_sections": false,
   "sideBar": true,
   "skip_h1_title": true,
   "title_cell": "Lecture Outline",
   "title_sidebar": "Contents",
   "toc_cell": true,
   "toc_position": {},
   "toc_section_display": true,
   "toc_window_display": true
  }
 },
 "nbformat": 4,
 "nbformat_minor": 4
}
