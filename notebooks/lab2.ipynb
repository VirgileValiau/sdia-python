{
 "cells": [
  {
   "cell_type": "code",
   "execution_count": null,
   "source": [
    "%load_ext autoreload\r\n",
    "%autoreload 2"
   ],
   "outputs": [],
   "metadata": {}
  },
  {
   "cell_type": "code",
   "execution_count": null,
   "source": [
    "from lab2.box_window import *\r\n",
    "Bw = BoxWindow(np.array([[0, 5], [0, 5]]))\r\n",
    "len(Bw)\r\n",
    "print(np.array([0,0]) in Bw)\r\n",
    "print(Bw.indicator_function( np.array([0,0]) ) )\r\n",
    "print(Bw.rand())"
   ],
   "outputs": [],
   "metadata": {}
  }
 ],
 "metadata": {
  "orig_nbformat": 4,
  "language_info": {
   "name": "python",
   "version": "3.8.11",
   "mimetype": "text/x-python",
   "codemirror_mode": {
    "name": "ipython",
    "version": 3
   },
   "pygments_lexer": "ipython3",
   "nbconvert_exporter": "python",
   "file_extension": ".py"
  },
  "kernelspec": {
   "name": "python3",
   "display_name": "Python 3.8.11 64-bit ('sdia-python': conda)"
  },
  "interpreter": {
   "hash": "b7a14428d0679a388d12d4d70095ebadfa2b4123e67a2bea52c5cc1555b33208"
  }
 },
 "nbformat": 4,
 "nbformat_minor": 2
}