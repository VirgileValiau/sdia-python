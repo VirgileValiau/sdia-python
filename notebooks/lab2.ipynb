{
 "cells": [
  {
   "cell_type": "code",
   "execution_count": null,
   "source": [
    "%load_ext autoreload\r\n",
    "%autoreload 2"
   ],
   "outputs": [],
   "metadata": {}
  },
  {
   "cell_type": "markdown",
   "source": [
    "To approximate Pi, we use 2 2D-windows : \r\n",
    "  1. a UnitWindow with center [0,0]\r\n",
    "  2. a Ball window centered also in [0,0] and with radius=0.5\r\n",
    "\r\n",
    "To calculate Pi, we generate N numbers in the Unit Window and we count the numbers of points that are in the Ball window over the total number of points.\r\n",
    "\r\n",
    "Doing that, we approximate the ratio between the area of the ball window (=pi/4) and the area of the UnitWindow(=1)\r\n",
    "\r\n",
    "So we have an access to pi."
   ],
   "metadata": {}
  },
  {
   "cell_type": "code",
   "execution_count": null,
   "source": [
    "from lab2.box_window import *\r\n",
    "from lab2.ball_window import *\r\n",
    "\r\n",
    "UnitWin = UnitBoxWindow(np.array([0,0]),2)\r\n",
    "BallWin =  BallWindow(np.array([0,0]),0.5)\r\n",
    "\r\n",
    "\r\n",
    "N=100000\r\n",
    "Points = UnitWin.rand(N) # We throw N points in the Unit Window\r\n",
    "\r\n",
    "nbPointsInBallWin = 0\r\n",
    "for p in Points:                # We count the numbers of points \r\n",
    "    if p in BallWin :           # in the ball window\r\n",
    "        nbPointsInBallWin += 1\r\n",
    "\r\n",
    "\r\n",
    "\r\n",
    "print(4*nbPointsInBallWin/N)    #We should have an approximation of pi"
   ],
   "outputs": [],
   "metadata": {}
  },
  {
   "cell_type": "code",
   "execution_count": null,
   "source": [],
   "outputs": [],
   "metadata": {}
  }
 ],
 "metadata": {
  "orig_nbformat": 4,
  "language_info": {
   "name": "python",
   "version": "3.8.11",
   "mimetype": "text/x-python",
   "codemirror_mode": {
    "name": "ipython",
    "version": 3
   },
   "pygments_lexer": "ipython3",
   "nbconvert_exporter": "python",
   "file_extension": ".py"
  },
  "kernelspec": {
   "name": "python3",
   "display_name": "Python 3.8.11 64-bit ('sdia-python': conda)"
  },
  "interpreter": {
   "hash": "b7a14428d0679a388d12d4d70095ebadfa2b4123e67a2bea52c5cc1555b33208"
  }
 },
 "nbformat": 4,
 "nbformat_minor": 2
}