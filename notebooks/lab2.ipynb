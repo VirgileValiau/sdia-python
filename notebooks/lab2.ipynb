{
 "cells": [
  {
   "cell_type": "code",
   "execution_count": null,
   "metadata": {},
   "outputs": [],
   "source": [
    "%load_ext autoreload\n",
    "%autoreload 2"
   ]
  },
  {
   "cell_type": "markdown",
   "metadata": {},
   "source": [
    "# Approximation of PI"
   ]
  },
  {
   "cell_type": "markdown",
   "metadata": {},
   "source": [
    "To approximate Pi, we use 2 2D-windows : \n",
    "  1. a UnitWindow with center [0,0]\n",
    "  2. a Ball window centered also in [0,0] and with radius=0.5\n",
    "\n",
    "To calculate Pi, we generate N numbers in the Unit Window and we count the numbers of points that are in the Ball window over the total number of points.\n",
    "\n",
    "Doing that, we approximate the ratio between the area of the ball window (=pi/4) and the area of the UnitWindow(=1)\n",
    "\n",
    "So we have an access to pi."
   ]
  },
  {
   "cell_type": "code",
   "execution_count": null,
   "metadata": {},
   "outputs": [],
   "source": [
    "from sdia_python.lab2.box_window import *\n",
    "from sdia_python.lab2.ball_window import *\n",
    "\n",
    "UnitWin = UnitBoxWindow(np.array([0,0]),2)\n",
    "BallWin =  BallWindow(np.array([0,0]),0.5)\n",
    "\n",
    "\n",
    "N=100000\n",
    "Points = UnitWin.rand(N,150) # We throw N points in the Unit Window\n",
    "nbPointsInBallWin = 0\n",
    "for p in Points:                # We count the numbers of points \n",
    "    if p in BallWin :           # in the ball window\n",
    "        nbPointsInBallWin += 1\n",
    "\n",
    "\n",
    "\n",
    "print(4*nbPointsInBallWin/N)    #We should have an approximation of pi"
   ]
  },
  {
   "cell_type": "markdown",
   "metadata": {},
   "source": [
    "# Test of function rand_2d of classe Ball_Window"
   ]
  },
  {
   "cell_type": "code",
   "execution_count": null,
   "metadata": {},
   "outputs": [],
   "source": [
    "C1 = BallWindow(np.array([0,0]),1)\n",
    "C2 = BallWindow(np.array([0,0]),2)\n",
    "\n",
    "N=10000\n",
    "nbPointInC1 = 0\n",
    "Points = C2.rand_2d(N)          # We throw N points in c2\n",
    "for p in Points:\n",
    "    if p in C1:             # We look if its in C1\n",
    "        nbPointInC1 += 1\n",
    "        \n",
    "print(nbPointInC1/N)            # We expect Aire(C1)/Aire(C2) = 1/4\n",
    "print(C1.volume()/C2.volume())  #expected value\n"
   ]
  },
  {
   "cell_type": "markdown",
   "metadata": {},
   "source": [
    "So we see our rand_2d function works !"
   ]
  },
  {
   "cell_type": "markdown",
   "metadata": {},
   "source": []
  }
 ],
 "metadata": {
  "interpreter": {
   "hash": "b7a14428d0679a388d12d4d70095ebadfa2b4123e67a2bea52c5cc1555b33208"
  },
  "kernelspec": {
   "display_name": "Python 3.8.11 64-bit ('sdia-python': conda)",
   "name": "python3"
  },
  "language_info": {
   "codemirror_mode": {
    "name": "ipython",
    "version": 3
   },
   "file_extension": ".py",
   "mimetype": "text/x-python",
   "name": "python",
   "nbconvert_exporter": "python",
   "pygments_lexer": "ipython3",
   "version": "3.8.11"
  },
  "orig_nbformat": 4
 },
 "nbformat": 4,
 "nbformat_minor": 2
}
